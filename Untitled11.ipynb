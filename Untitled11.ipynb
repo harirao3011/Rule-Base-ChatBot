{
  "nbformat": 4,
  "nbformat_minor": 0,
  "metadata": {
    "colab": {
      "provenance": [],
      "authorship_tag": "ABX9TyOFWgcedjg4/X9NaM/GKPRd",
      "include_colab_link": true
    },
    "kernelspec": {
      "name": "python3",
      "display_name": "Python 3"
    },
    "language_info": {
      "name": "python"
    }
  },
  "cells": [
    {
      "cell_type": "markdown",
      "metadata": {
        "id": "view-in-github",
        "colab_type": "text"
      },
      "source": [
        "<a href=\"https://colab.research.google.com/github/harirao3011/Rule-Base-ChatBot/blob/main/Untitled11.ipynb\" target=\"_parent\"><img src=\"https://colab.research.google.com/assets/colab-badge.svg\" alt=\"Open In Colab\"/></a>"
      ]
    },
    {
      "cell_type": "markdown",
      "source": [
        "A ChatBot using rule base ai agent"
      ],
      "metadata": {
        "id": "gaw_xdffAyDk"
      }
    },
    {
      "cell_type": "code",
      "execution_count": 2,
      "metadata": {
        "colab": {
          "base_uri": "https://localhost:8080/"
        },
        "id": "kpRo8bAPAwI7",
        "outputId": "fc0ed8ca-1169-4fdd-c28c-e555fa62a6fe"
      },
      "outputs": [
        {
          "output_type": "stream",
          "name": "stdout",
          "text": [
            "ChatBot: Hello! I'm a rule-based chatbot. Type 'exit' to end the conversation.\n",
            "You: hi\n",
            "Hello! How can I assist you today?\n",
            "You: hlo\n",
            "I'm not sure how to respond to that. Try asking something else.\n",
            "You: weather\n",
            "I can't fetch live weather updates, but it's always sunny in the code world!\n",
            "You: bye\n",
            "Goodbye! Have a nice day.\n"
          ]
        }
      ],
      "source": [
        "def chatbot():\n",
        "    print(\"ChatBot: Hello! I'm a rule-based chatbot. Type 'exit' to end the conversation.\")\n",
        "\n",
        "    while True:\n",
        "        user_input = input(\"You: \").lower()\n",
        "\n",
        "        if user_input in [\"hi\", \"hello\", \"hey\"]:\n",
        "            print(\"Hello! How can I assist you today?\")\n",
        "\n",
        "        elif \"how are you\" in user_input:\n",
        "            print(\"I'm just a program, but I'm functioning perfectly. How about you?\")\n",
        "\n",
        "        elif \"your name\" in user_input:\n",
        "            print(\"I'm a simple rule-based chatbot created in Python.\")\n",
        "\n",
        "        elif \"help\" in user_input:\n",
        "            print(\"Sure, I can help. Ask me anything related to general queries.\")\n",
        "\n",
        "        elif \"bye\" in user_input or \"exit\" in user_input:\n",
        "            print(\"Goodbye! Have a nice day.\")\n",
        "            break\n",
        "\n",
        "        elif \"weather\" in user_input:\n",
        "            print(\"I can't fetch live weather updates, but it's always sunny in the code world!\")\n",
        "\n",
        "        elif \"time\" in user_input:\n",
        "            from datetime import datetime\n",
        "            current_time = datetime.now().strftime(\"%H:%M:%S\")\n",
        "            print(f\"The current time is {current_time}.\")\n",
        "\n",
        "        else:\n",
        "            print(\"I'm not sure how to respond to that. Try asking something else.\")\n",
        "if __name__ == \"__main__\":\n",
        "    chatbot()\n"
      ]
    }
  ]
}